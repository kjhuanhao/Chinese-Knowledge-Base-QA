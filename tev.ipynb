{
 "cells": [
  {
   "cell_type": "code",
   "execution_count": null,
   "metadata": {
    "collapsed": true,
    "ExecuteTime": {
     "start_time": "2023-07-24T23:03:16.541965Z",
     "end_time": "2023-07-24T23:03:23.639269Z"
    }
   },
   "outputs": [],
   "source": [
    "import pinecone\n",
    "from text2vec import SentenceModel"
   ]
  },
  {
   "cell_type": "code",
   "execution_count": 118,
   "outputs": [],
   "source": [
    "pinecone.init(api_key='54dda629-c12f-4633-bb8e-d139a55a77f9', environment='us-west1-gcp-free')\n",
    "index = pinecone.Index('student')"
   ],
   "metadata": {
    "collapsed": false,
    "ExecuteTime": {
     "start_time": "2023-07-25T01:15:05.302214Z",
     "end_time": "2023-07-25T01:15:05.936177Z"
    }
   }
  },
  {
   "cell_type": "code",
   "execution_count": null,
   "outputs": [],
   "source": [
    "import pandas as pd\n",
    "import tiktoken"
   ],
   "metadata": {
    "collapsed": false,
    "ExecuteTime": {
     "start_time": "2023-07-24T23:04:00.520361Z",
     "end_time": "2023-07-24T23:04:00.545985Z"
    }
   }
  },
  {
   "cell_type": "code",
   "execution_count": null,
   "outputs": [],
   "source": [
    "df = pd.read_csv('data/test.csv')"
   ],
   "metadata": {
    "collapsed": false,
    "ExecuteTime": {
     "start_time": "2023-07-24T23:05:52.341973Z",
     "end_time": "2023-07-24T23:05:52.361813Z"
    }
   }
  },
  {
   "cell_type": "code",
   "execution_count": null,
   "outputs": [],
   "source": [
    "df.head()"
   ],
   "metadata": {
    "collapsed": false,
    "ExecuteTime": {
     "start_time": "2023-07-24T23:05:52.763860Z",
     "end_time": "2023-07-24T23:05:52.780973Z"
    }
   }
  },
  {
   "cell_type": "code",
   "execution_count": null,
   "outputs": [],
   "source": [
    "def tokenlizer_csv(file_root: str) -> pd.DataFrame:\n",
    "    embedding_encoding = \"cl100k_base\"\n",
    "    encoding = tiktoken.get_encoding(embedding_encoding)\n",
    "\n",
    "    df = pd.read_csv(file_root)\n",
    "    df = df[[\"question\", \"answer\"]]\n",
    "    df[\"summarized\"] = (\"question: \" + df.question.str.strip() + \"; answer: \" + df.answer.str.strip())\n",
    "\n",
    "    df[\"tokens\"] = df.summarized.apply(lambda x: len(encoding.encode(x)))\n",
    "    return df"
   ],
   "metadata": {
    "collapsed": false,
    "ExecuteTime": {
     "start_time": "2023-07-24T23:05:55.215220Z",
     "end_time": "2023-07-24T23:05:55.226600Z"
    }
   }
  },
  {
   "cell_type": "code",
   "execution_count": null,
   "outputs": [],
   "source": [
    "df = tokenlizer_csv('data/test.csv')"
   ],
   "metadata": {
    "collapsed": false,
    "ExecuteTime": {
     "start_time": "2023-07-24T23:06:38.178278Z",
     "end_time": "2023-07-24T23:06:38.185883Z"
    }
   }
  },
  {
   "cell_type": "code",
   "execution_count": null,
   "outputs": [],
   "source": [
    "def get_text_embedding(text):\n",
    "    model = SentenceModel('./text2vec-base-chinese')\n",
    "    embeddings = model.encode(text)\n",
    "    return embeddings"
   ],
   "metadata": {
    "collapsed": false,
    "ExecuteTime": {
     "start_time": "2023-07-24T23:06:38.648099Z",
     "end_time": "2023-07-24T23:06:38.656110Z"
    }
   }
  },
  {
   "cell_type": "code",
   "execution_count": null,
   "outputs": [],
   "source": [
    "def get_df_embedding(df):\n",
    "    return {idx: get_text_embedding(r.summarized) for idx, r in df.iterrows()}"
   ],
   "metadata": {
    "collapsed": false,
    "ExecuteTime": {
     "start_time": "2023-07-24T23:06:39.106796Z",
     "end_time": "2023-07-24T23:06:39.144610Z"
    }
   }
  },
  {
   "cell_type": "code",
   "execution_count": null,
   "outputs": [],
   "source": [
    "df_embedding = get_df_embedding(df)"
   ],
   "metadata": {
    "collapsed": false,
    "ExecuteTime": {
     "start_time": "2023-07-24T23:06:39.702239Z",
     "end_time": "2023-07-24T23:06:47.691814Z"
    }
   }
  },
  {
   "cell_type": "code",
   "execution_count": null,
   "outputs": [],
   "source": [
    "df_embedding"
   ],
   "metadata": {
    "collapsed": false,
    "ExecuteTime": {
     "start_time": "2023-07-24T23:08:17.419377Z",
     "end_time": "2023-07-24T23:08:17.449435Z"
    }
   }
  },
  {
   "cell_type": "code",
   "execution_count": null,
   "outputs": [],
   "source": [
    "df_embedding[0].tolist()"
   ],
   "metadata": {
    "collapsed": false,
    "ExecuteTime": {
     "start_time": "2023-07-24T23:20:05.596916Z",
     "end_time": "2023-07-24T23:20:05.623654Z"
    }
   }
  },
  {
   "cell_type": "code",
   "execution_count": null,
   "outputs": [],
   "source": [
    "vectors = []\n",
    "count = 0\n",
    "for embed_index in df_embedding:\n",
    "    var = {\n",
    "        'id': str(count),\n",
    "        'values': df_embedding[embed_index].tolist()\n",
    "    }\n",
    "    vectors.append(var)\n",
    "    count+=1\n"
   ],
   "metadata": {
    "collapsed": false,
    "ExecuteTime": {
     "start_time": "2023-07-24T23:31:56.006894Z",
     "end_time": "2023-07-24T23:31:56.030301Z"
    }
   }
  },
  {
   "cell_type": "code",
   "execution_count": null,
   "outputs": [],
   "source": [
    "vectors"
   ],
   "metadata": {
    "collapsed": false,
    "ExecuteTime": {
     "start_time": "2023-07-24T23:31:56.380156Z",
     "end_time": "2023-07-24T23:31:56.431534Z"
    }
   }
  },
  {
   "cell_type": "code",
   "execution_count": null,
   "outputs": [],
   "source": [
    "upsert_response = index.upsert(\n",
    "    vectors=vectors,\n",
    ")"
   ],
   "metadata": {
    "collapsed": false,
    "ExecuteTime": {
     "start_time": "2023-07-24T23:31:57.145011Z",
     "end_time": "2023-07-24T23:31:58.579117Z"
    }
   }
  },
  {
   "cell_type": "code",
   "execution_count": null,
   "outputs": [],
   "source": [
    "query = \"早上要跑步吗\""
   ],
   "metadata": {
    "collapsed": false,
    "ExecuteTime": {
     "start_time": "2023-07-24T23:35:46.499963Z",
     "end_time": "2023-07-24T23:35:46.520483Z"
    }
   }
  },
  {
   "cell_type": "code",
   "execution_count": null,
   "outputs": [],
   "source": [
    "xq = get_text_embedding(query).tolist()\n"
   ],
   "metadata": {
    "collapsed": false,
    "ExecuteTime": {
     "start_time": "2023-07-24T23:35:47.195463Z",
     "end_time": "2023-07-24T23:35:48.468270Z"
    }
   }
  },
  {
   "cell_type": "code",
   "execution_count": null,
   "outputs": [],
   "source": [
    "xc = index.query(xq, top_k=5, include_metadata=True)"
   ],
   "metadata": {
    "collapsed": false,
    "ExecuteTime": {
     "start_time": "2023-07-24T23:35:48.689595Z",
     "end_time": "2023-07-24T23:35:49.735559Z"
    }
   }
  },
  {
   "cell_type": "code",
   "execution_count": 90,
   "outputs": [
    {
     "data": {
      "text/plain": "{'matches': [{'id': '3', 'score': 0.611040115, 'values': []},\n             {'id': '0', 'score': 0.240501195, 'values': []},\n             {'id': '2', 'score': 0.231632277, 'values': []},\n             {'id': '1', 'score': 0.163174063, 'values': []}],\n 'namespace': ''}"
     },
     "execution_count": 90,
     "metadata": {},
     "output_type": "execute_result"
    }
   ],
   "source": [
    "xc"
   ],
   "metadata": {
    "collapsed": false,
    "ExecuteTime": {
     "start_time": "2023-07-25T00:12:30.577514Z",
     "end_time": "2023-07-25T00:12:30.592603Z"
    }
   }
  },
  {
   "cell_type": "code",
   "execution_count": 101,
   "outputs": [
    {
     "data": {
      "text/plain": "['3', '0', '2', '1']"
     },
     "execution_count": 101,
     "metadata": {},
     "output_type": "execute_result"
    }
   ],
   "source": [
    "[value[\"id\"] for value in xc[\"matches\"]]"
   ],
   "metadata": {
    "collapsed": false,
    "ExecuteTime": {
     "start_time": "2023-07-25T00:14:58.562768Z",
     "end_time": "2023-07-25T00:14:58.574166Z"
    }
   }
  },
  {
   "cell_type": "code",
   "execution_count": 112,
   "outputs": [
    {
     "name": "stdout",
     "output_type": "stream",
     "text": [
      "{'question': '有晨跑吗？', 'answer': '没有', 'summarized': 'question: 有晨跑吗？; answer: 没有', 'tokens': 18}\n"
     ]
    }
   ],
   "source": [
    "print(df.iloc[3].to_dict())"
   ],
   "metadata": {
    "collapsed": false,
    "ExecuteTime": {
     "start_time": "2023-07-25T00:34:20.827121Z",
     "end_time": "2023-07-25T00:34:20.851021Z"
    }
   }
  },
  {
   "cell_type": "code",
   "execution_count": 113,
   "outputs": [
    {
     "data": {
      "text/plain": "pandas.core.frame.DataFrame"
     },
     "execution_count": 113,
     "metadata": {},
     "output_type": "execute_result"
    }
   ],
   "source": [
    "type(df)"
   ],
   "metadata": {
    "collapsed": false,
    "ExecuteTime": {
     "start_time": "2023-07-25T00:41:10.796773Z",
     "end_time": "2023-07-25T00:41:10.828658Z"
    }
   }
  },
  {
   "cell_type": "code",
   "execution_count": 88,
   "outputs": [
    {
     "data": {
      "text/plain": "{}"
     },
     "execution_count": 88,
     "metadata": {},
     "output_type": "execute_result"
    }
   ],
   "source": [
    "index.delete(ids=[\"3\"])"
   ],
   "metadata": {
    "collapsed": false
   }
  },
  {
   "cell_type": "code",
   "execution_count": 120,
   "outputs": [
    {
     "data": {
      "text/plain": "{'dimension': 768,\n 'index_fullness': 0.0,\n 'namespaces': {'': {'vector_count': 4}, 'we': {'vector_count': 39}},\n 'total_vector_count': 43}"
     },
     "execution_count": 120,
     "metadata": {},
     "output_type": "execute_result"
    }
   ],
   "source": [
    "index.describe_index_stats()"
   ],
   "metadata": {
    "collapsed": false,
    "ExecuteTime": {
     "start_time": "2023-07-25T01:22:45.211220Z",
     "end_time": "2023-07-25T01:22:46.176545Z"
    }
   }
  },
  {
   "cell_type": "code",
   "execution_count": null,
   "outputs": [],
   "source": [],
   "metadata": {
    "collapsed": false
   }
  }
 ],
 "metadata": {
  "kernelspec": {
   "display_name": "Python 3",
   "language": "python",
   "name": "python3"
  },
  "language_info": {
   "codemirror_mode": {
    "name": "ipython",
    "version": 2
   },
   "file_extension": ".py",
   "mimetype": "text/x-python",
   "name": "python",
   "nbconvert_exporter": "python",
   "pygments_lexer": "ipython2",
   "version": "2.7.6"
  }
 },
 "nbformat": 4,
 "nbformat_minor": 0
}
